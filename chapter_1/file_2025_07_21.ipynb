{
 "cells": [
  {
   "cell_type": "code",
   "id": "initial_id",
   "metadata": {
    "collapsed": true,
    "ExecuteTime": {
     "end_time": "2025-07-21T05:56:25.336836Z",
     "start_time": "2025-07-21T05:56:25.332785Z"
    }
   },
   "source": [
    "import collections\n",
    "from typing import NamedTuple\n",
    "\n",
    "\n",
    "class Card(NamedTuple):\n",
    "    rank : str\n",
    "    suit : str\n",
    "\n",
    "class FrenchDeck:\n",
    "    ranks = [str(n) for n in range(2,11)] + list(\"JQKA\")\n",
    "    suits = 'spades diamonds clubs hearts'.split()\n",
    "\n",
    "    def __init__(self):\n",
    "        self._cards = [Card(rank, suit) for suit in self.suits for rank in self.ranks]\n",
    "\n",
    "    def __len__(self):\n",
    "        return len(self._cards)\n",
    "\n",
    "    def __getitem__(self, position):\n",
    "        return self._cards[position]"
   ],
   "outputs": [],
   "execution_count": 25
  },
  {
   "metadata": {
    "ExecuteTime": {
     "end_time": "2025-07-21T05:56:25.763120Z",
     "start_time": "2025-07-21T05:56:25.760908Z"
    }
   },
   "cell_type": "code",
   "source": "deck = FrenchDeck()",
   "id": "7fcddf1a3c9ca1fb",
   "outputs": [],
   "execution_count": 26
  },
  {
   "metadata": {
    "ExecuteTime": {
     "end_time": "2025-07-21T05:56:37.682298Z",
     "start_time": "2025-07-21T05:56:37.678910Z"
    }
   },
   "cell_type": "code",
   "source": "len(deck)",
   "id": "3b5e3f685336afdd",
   "outputs": [
    {
     "data": {
      "text/plain": [
       "52"
      ]
     },
     "execution_count": 27,
     "metadata": {},
     "output_type": "execute_result"
    }
   ],
   "execution_count": 27
  },
  {
   "metadata": {
    "ExecuteTime": {
     "end_time": "2025-07-21T05:55:42.447962Z",
     "start_time": "2025-07-21T05:55:42.444451Z"
    }
   },
   "cell_type": "code",
   "source": "deck[0]",
   "id": "73effa709f19618c",
   "outputs": [
    {
     "data": {
      "text/plain": [
       "Card(rank='2', suit='spades')"
      ]
     },
     "execution_count": 24,
     "metadata": {},
     "output_type": "execute_result"
    }
   ],
   "execution_count": 24
  },
  {
   "metadata": {
    "ExecuteTime": {
     "end_time": "2025-07-21T06:06:10.201612Z",
     "start_time": "2025-07-21T06:06:10.196887Z"
    }
   },
   "cell_type": "code",
   "source": [
    "from random import choice\n",
    "\n",
    "choice(deck)"
   ],
   "id": "a32c0d510d6aaee3",
   "outputs": [
    {
     "data": {
      "text/plain": [
       "Card(rank='4', suit='clubs')"
      ]
     },
     "execution_count": 29,
     "metadata": {},
     "output_type": "execute_result"
    }
   ],
   "execution_count": 29
  },
  {
   "metadata": {
    "ExecuteTime": {
     "end_time": "2025-07-21T06:14:38.824293Z",
     "start_time": "2025-07-21T06:14:38.821381Z"
    }
   },
   "cell_type": "code",
   "source": "deck[12 :: 13]\n",
   "id": "df7e25f58b5ce34",
   "outputs": [
    {
     "data": {
      "text/plain": [
       "[Card(rank='A', suit='spades'),\n",
       " Card(rank='A', suit='diamonds'),\n",
       " Card(rank='A', suit='clubs'),\n",
       " Card(rank='A', suit='hearts')]"
      ]
     },
     "execution_count": 38,
     "metadata": {},
     "output_type": "execute_result"
    }
   ],
   "execution_count": 38
  }
 ],
 "metadata": {
  "kernelspec": {
   "display_name": "Python 3",
   "language": "python",
   "name": "python3"
  },
  "language_info": {
   "codemirror_mode": {
    "name": "ipython",
    "version": 2
   },
   "file_extension": ".py",
   "mimetype": "text/x-python",
   "name": "python",
   "nbconvert_exporter": "python",
   "pygments_lexer": "ipython2",
   "version": "2.7.6"
  }
 },
 "nbformat": 4,
 "nbformat_minor": 5
}
